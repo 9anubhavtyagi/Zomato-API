{
 "cells": [
  {
   "cell_type": "markdown",
   "id": "604ae0b5",
   "metadata": {},
   "source": [
    "# Plot the pie graph of top 10 cuisines present in restaurants in the USA."
   ]
  },
  {
   "cell_type": "markdown",
   "id": "d171c285",
   "metadata": {},
   "source": [
    "### Module Imports"
   ]
  },
  {
   "cell_type": "code",
   "execution_count": 1,
   "id": "53bd94a9",
   "metadata": {},
   "outputs": [],
   "source": [
    "# import libraries\n",
    "import pandas as pd\n",
    "import numpy as np\n",
    "import matplotlib.pyplot as plt"
   ]
  },
  {
   "cell_type": "markdown",
   "id": "03c345df",
   "metadata": {},
   "source": [
    "### Load US restaurants data"
   ]
  },
  {
   "cell_type": "code",
   "execution_count": 2,
   "id": "4fae4484",
   "metadata": {},
   "outputs": [],
   "source": [
    "# fetch data\n",
    "df = pd.read_csv('zomato.csv')\n",
    "\n",
    "# extract indian restaurant's data\n",
    "df = df[df['Country Code'] == 216]\n",
    "\n",
    "# df"
   ]
  },
  {
   "cell_type": "markdown",
   "id": "42549822",
   "metadata": {},
   "source": [
    "### drop rows containing nan values in Cuisines columns"
   ]
  },
  {
   "cell_type": "code",
   "execution_count": 3,
   "id": "336b30cc",
   "metadata": {},
   "outputs": [],
   "source": [
    "df.dropna(subset = ['Cuisines'], inplace=True)\n",
    "# df"
   ]
  },
  {
   "cell_type": "markdown",
   "id": "5eac5251",
   "metadata": {},
   "source": [
    "### Dictionary to store count of restaurants serving a cuisine"
   ]
  },
  {
   "cell_type": "code",
   "execution_count": 4,
   "id": "8ff9aa73",
   "metadata": {},
   "outputs": [],
   "source": [
    "# map or dict to store count of cuisines\n",
    "cuisines_map = {}\n",
    "\n",
    "for cuisines in df.Cuisines:\n",
    "    for cuisine in cuisines.split(','):\n",
    "        cuisine = cuisine.strip()\n",
    "        cuisines_map[cuisine] = cuisines_map.get(cuisine, 0) +1\n",
    "        \n",
    "# cuisines_map"
   ]
  },
  {
   "cell_type": "markdown",
   "id": "f54c94dd",
   "metadata": {},
   "source": [
    "### Top 10 Cuisines"
   ]
  },
  {
   "cell_type": "code",
   "execution_count": 5,
   "id": "353d38a4",
   "metadata": {},
   "outputs": [
    {
     "data": {
      "text/plain": [
       "array([['American', '112'],\n",
       "       ['Seafood', '59'],\n",
       "       ['Burger', '49'],\n",
       "       ['Sandwich', '49'],\n",
       "       ['Pizza', '49'],\n",
       "       ['Steak', '42'],\n",
       "       ['Italian', '38'],\n",
       "       ['Breakfast', '37'],\n",
       "       ['Mexican', '36'],\n",
       "       ['Sushi', '34']], dtype='<U11')"
      ]
     },
     "execution_count": 5,
     "metadata": {},
     "output_type": "execute_result"
    }
   ],
   "source": [
    "# top 10 cuisines data\n",
    "top_10_cuisines_data = np.array(sorted(cuisines_map.items(), key = lambda x: x[1], reverse = True)[:10])\n",
    "top_10_cuisines_data"
   ]
  },
  {
   "cell_type": "markdown",
   "id": "cd727d02",
   "metadata": {},
   "source": [
    "### Separate Top 10 cuisines name and number of outlets they are available in"
   ]
  },
  {
   "cell_type": "code",
   "execution_count": 6,
   "id": "09148c1d",
   "metadata": {},
   "outputs": [],
   "source": [
    "# top 10 cuisines name\n",
    "top_10_cuisines = top_10_cuisines_data[:, 0]\n",
    "\n",
    "# top 10 cuisines count\n",
    "top_10_cuisines_count = top_10_cuisines_data[:, 1].astype(int)"
   ]
  },
  {
   "cell_type": "markdown",
   "id": "2b1fa07f",
   "metadata": {},
   "source": [
    "## Plot the pie-chart"
   ]
  },
  {
   "cell_type": "code",
   "execution_count": 7,
   "id": "bb593605",
   "metadata": {},
   "outputs": [
    {
     "data": {
      "image/png": "[encoded data removed]",
      "text/plain": [
       "<Figure size 432x288 with 1 Axes>"
      ]
     },
     "metadata": {},
     "output_type": "display_data"
    }
   ],
   "source": [
    "# plot pie chart\n",
    "\n",
    "plt.pie(top_10_cuisines_count, labels = top_10_cuisines, autopct = '%.2f%%')\n",
    "plt.show()"
   ]
  },
  {
   "cell_type": "code",
   "execution_count": null,
   "id": "8ea0926a",
   "metadata": {},
   "outputs": [],
   "source": []
  },
  {
   "cell_type": "code",
   "execution_count": null,
   "id": "dc29a5f0",
   "metadata": {},
   "outputs": [],
   "source": []
  }
 ],
 "metadata": {
  "kernelspec": {
   "display_name": "Python 3",
   "language": "python",
   "name": "python3"
  },
  "language_info": {
   "codemirror_mode": {
    "name": "ipython",
    "version": 3
   },
   "file_extension": ".py",
   "mimetype": "text/x-python",
   "name": "python",
   "nbconvert_exporter": "python",
   "pygments_lexer": "ipython3",
   "version": "3.8.8"
  }
 },
 "nbformat": 4,
 "nbformat_minor": 5
}
