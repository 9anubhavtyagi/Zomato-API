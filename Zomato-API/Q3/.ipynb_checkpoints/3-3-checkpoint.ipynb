{
 "cells": [
  {
   "cell_type": "markdown",
   "id": "8e0da8a3",
   "metadata": {},
   "source": [
    "# Plot the bar graph top 10 restaurants in the data with the highest number of votes."
   ]
  },
  {
   "cell_type": "markdown",
   "id": "98f20923",
   "metadata": {},
   "source": [
    "### Module Imports"
   ]
  },
  {
   "cell_type": "code",
   "execution_count": 1,
   "id": "53bd94a9",
   "metadata": {},
   "outputs": [],
   "source": [
    "# import libraries\n",
    "import pandas as pd\n",
    "import numpy as np\n",
    "import matplotlib.pyplot as plt"
   ]
  },
  {
   "cell_type": "markdown",
   "id": "b6c4a5d9",
   "metadata": {},
   "source": [
    "### Load indian restaurants data"
   ]
  },
  {
   "cell_type": "code",
   "execution_count": 2,
   "id": "336b30cc",
   "metadata": {},
   "outputs": [],
   "source": [
    "# fetch data\n",
    "df = pd.read_csv('zomato.csv')\n",
    "\n",
    "# extract indian restaurant's data\n",
    "df = df[df['Country Code'] == 1]\n",
    "\n",
    "# df"
   ]
  },
  {
   "cell_type": "markdown",
   "id": "17e6c17b",
   "metadata": {},
   "source": [
    "### Fetch Top 15 restaurants data grouping votes-wise"
   ]
  },
  {
   "cell_type": "code",
   "execution_count": 3,
   "id": "b343827a",
   "metadata": {},
   "outputs": [
    {
     "data": {
      "text/plain": [
       "Restaurant Name\n",
       "Barbeque Nation              27835\n",
       "AB's - Absolute Barbecues    13400\n",
       "Toit                         10934\n",
       "Big Chill                    10853\n",
       "Truffles                      9682\n",
       "Farzi Cafe                    9189\n",
       "Chili's                       8156\n",
       "Hauz Khas Social              7931\n",
       "Joey's Pizza                  7807\n",
       "Peter Cat                     7574\n",
       "Name: Votes, dtype: int64"
      ]
     },
     "execution_count": 3,
     "metadata": {},
     "output_type": "execute_result"
    }
   ],
   "source": [
    "# top 15 restaurant's data by number of votes\n",
    "top_15_restaurants_data = df.groupby('Restaurant Name')['Votes'].sum().sort_values(ascending=False)[:10]\n",
    "top_15_restaurants_data"
   ]
  },
  {
   "cell_type": "markdown",
   "id": "42c93ec8",
   "metadata": {},
   "source": [
    "### Separate restaurants names and their count"
   ]
  },
  {
   "cell_type": "code",
   "execution_count": 4,
   "id": "7645ab48",
   "metadata": {},
   "outputs": [],
   "source": [
    "# top 15 restaurant's name\n",
    "top_15_restaurants = top_15_restaurants_data.index\n",
    "\n",
    "# top 15 restaurant's count\n",
    "top_15_restaurants_count = top_15_restaurants_data.values"
   ]
  },
  {
   "cell_type": "markdown",
   "id": "00829882",
   "metadata": {},
   "source": [
    "## Plot the bar graph"
   ]
  },
  {
   "cell_type": "code",
   "execution_count": 5,
   "id": "e2b50ba5",
   "metadata": {},
   "outputs": [
    {
     "data": {
      "image/png": "[encoded data removed]",
      "text/plain": [
       "<Figure size 432x288 with 1 Axes>"
      ]
     },
     "metadata": {
      "needs_background": "light"
     },
     "output_type": "display_data"
    }
   ],
   "source": [
    "# plot bar graph\n",
    "plt.bar(top_15_restaurants, top_15_restaurants_count, width=0.6, edgecolor='black')\n",
    "\n",
    "plt.title('Top 10 Restaurants in India')\n",
    "plt.ylabel('Number of Votes')\n",
    "plt.xlabel('Restaurants')\n",
    "\n",
    "plt.xticks(rotation=90)\n",
    "plt.show()"
   ]
  },
  {
   "cell_type": "code",
   "execution_count": null,
   "id": "61b29223",
   "metadata": {},
   "outputs": [],
   "source": []
  }
 ],
 "metadata": {
  "kernelspec": {
   "display_name": "Python 3",
   "language": "python",
   "name": "python3"
  },
  "language_info": {
   "codemirror_mode": {
    "name": "ipython",
    "version": 3
   },
   "file_extension": ".py",
   "mimetype": "text/x-python",
   "name": "python",
   "nbconvert_exporter": "python",
   "pygments_lexer": "ipython3",
   "version": "3.8.8"
  }
 },
 "nbformat": 4,
 "nbformat_minor": 5
}
