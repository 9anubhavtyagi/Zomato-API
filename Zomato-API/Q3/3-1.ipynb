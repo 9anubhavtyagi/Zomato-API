{
 "cells": [
  {
   "cell_type": "markdown",
   "id": "d2dd9e08",
   "metadata": {},
   "source": [
    "# Plot the bar graph top 15 restaurants have a maximum number of outlets."
   ]
  },
  {
   "cell_type": "markdown",
   "id": "5b05dad7",
   "metadata": {},
   "source": [
    "### Module Imports"
   ]
  },
  {
   "cell_type": "code",
   "execution_count": 1,
   "id": "53bd94a9",
   "metadata": {},
   "outputs": [],
   "source": [
    "# import libraries\n",
    "import pandas as pd\n",
    "import numpy as np\n",
    "import matplotlib.pyplot as plt"
   ]
  },
  {
   "cell_type": "markdown",
   "id": "48174823",
   "metadata": {},
   "source": [
    "### Load Indian Restaurants data"
   ]
  },
  {
   "cell_type": "code",
   "execution_count": 2,
   "id": "336b30cc",
   "metadata": {},
   "outputs": [],
   "source": [
    "# fetch data\n",
    "df = pd.read_csv('zomato.csv')\n",
    "\n",
    "# extract indian restaurant's data\n",
    "df = df[df['Country Code'] == 1]\n",
    "\n",
    "# df"
   ]
  },
  {
   "cell_type": "markdown",
   "id": "f5f10ec8",
   "metadata": {},
   "source": [
    "### Use value_counts() method Restaurants Name wise and get Top 15 restaurants data"
   ]
  },
  {
   "cell_type": "code",
   "execution_count": 3,
   "id": "b343827a",
   "metadata": {},
   "outputs": [
    {
     "data": {
      "text/plain": [
       "Cafe Coffee Day     83\n",
       "Domino's Pizza      79\n",
       "Subway              63\n",
       "Green Chick Chop    51\n",
       "McDonald's          48\n",
       "Keventers           34\n",
       "Giani               29\n",
       "Pizza Hut           29\n",
       "Baskin Robbins      28\n",
       "Barbeque Nation     25\n",
       "Barista             22\n",
       "Dunkin' Donuts      22\n",
       "Giani's             22\n",
       "Costa Coffee        20\n",
       "Pind Balluchi       20\n",
       "Name: Restaurant Name, dtype: int64"
      ]
     },
     "execution_count": 3,
     "metadata": {},
     "output_type": "execute_result"
    }
   ],
   "source": [
    "# restaurant's count of top 15 restaurant\n",
    "top_15_restaurants_data = df['Restaurant Name'].value_counts()[:15]\n",
    "top_15_restaurants_data"
   ]
  },
  {
   "cell_type": "markdown",
   "id": "4830fb5e",
   "metadata": {},
   "source": [
    "### Separate restaurants and their number of outlets"
   ]
  },
  {
   "cell_type": "code",
   "execution_count": 4,
   "id": "7645ab48",
   "metadata": {
    "scrolled": true
   },
   "outputs": [],
   "source": [
    "# top 15 restaurant's name\n",
    "top_15_restaurants = top_15_restaurants_data.index\n",
    "\n",
    "# top 15 restaurant's count\n",
    "top_15_restaurants_count = top_15_restaurants_data.values"
   ]
  },
  {
   "cell_type": "markdown",
   "id": "0980892c",
   "metadata": {},
   "source": [
    "## plot the bar graph"
   ]
  },
  {
   "cell_type": "code",
   "execution_count": 5,
   "id": "e2b50ba5",
   "metadata": {},
   "outputs": [
    {
     "data": {
      "image/png": "[encoded data removed]",
      "text/plain": [
       "<Figure size 432x288 with 1 Axes>"
      ]
     },
     "metadata": {
      "needs_background": "light"
     },
     "output_type": "display_data"
    }
   ],
   "source": [
    "# plot the bar graph\n",
    "plt.bar(top_15_restaurants, top_15_restaurants_count, width=0.6, edgecolor='black')\n",
    "\n",
    "plt.ylabel('Number of Outlets')\n",
    "plt.xlabel('Restaurants')\n",
    "plt.title('Top 15 Restaurants in India')\n",
    "\n",
    "plt.xticks(rotation=90)\n",
    "plt.show()"
   ]
  },
  {
   "cell_type": "code",
   "execution_count": null,
   "id": "dc29a5f0",
   "metadata": {},
   "outputs": [],
   "source": []
  }
 ],
 "metadata": {
  "kernelspec": {
   "display_name": "Python 3",
   "language": "python",
   "name": "python3"
  },
  "language_info": {
   "codemirror_mode": {
    "name": "ipython",
    "version": 3
   },
   "file_extension": ".py",
   "mimetype": "text/x-python",
   "name": "python",
   "nbconvert_exporter": "python",
   "pygments_lexer": "ipython3",
   "version": "3.8.8"
  }
 },
 "nbformat": 4,
 "nbformat_minor": 5
}
