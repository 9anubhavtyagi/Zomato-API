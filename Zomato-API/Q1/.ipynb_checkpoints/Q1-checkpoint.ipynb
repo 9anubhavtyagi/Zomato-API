{
 "cells": [
  {
   "cell_type": "markdown",
   "id": "c86aa202",
   "metadata": {},
   "source": [
    "### Module Imports"
   ]
  },
  {
   "cell_type": "code",
   "execution_count": 1,
   "id": "c6f4eaab",
   "metadata": {},
   "outputs": [],
   "source": [
    "import pandas as pd\n",
    "import numpy as np\n",
    "import matplotlib.pyplot as plt"
   ]
  },
  {
   "cell_type": "markdown",
   "id": "6fd36c72",
   "metadata": {},
   "source": [
    "### function to get region of restaurant"
   ]
  },
  {
   "cell_type": "code",
   "execution_count": 2,
   "id": "47f0235a",
   "metadata": {},
   "outputs": [],
   "source": [
    "# ncr cities\n",
    "ncr_cities = ['New Delhi', 'Ghaziabad', 'Noida', 'Gurgaon', 'Faridabad']\n",
    "\n",
    "def get_region(city):\n",
    "    if city in ncr_cities:\n",
    "        return 'Delhi-NCR'\n",
    "    else:\n",
    "        return 'Rest of India'"
   ]
  },
  {
   "cell_type": "markdown",
   "id": "46a4e504",
   "metadata": {},
   "source": [
    "### Load data related to india"
   ]
  },
  {
   "cell_type": "code",
   "execution_count": 3,
   "id": "a8ed226d",
   "metadata": {},
   "outputs": [],
   "source": [
    "df = pd.read_csv('zomato.csv')\n",
    "# df"
   ]
  },
  {
   "cell_type": "code",
   "execution_count": 4,
   "id": "b63edaab",
   "metadata": {},
   "outputs": [
    {
     "data": {
      "text/html": [
       "<div>\n",
       "<style scoped>\n",
       "    .dataframe tbody tr th:only-of-type {\n",
       "        vertical-align: middle;\n",
       "    }\n",
       "\n",
       "    .dataframe tbody tr th {\n",
       "        vertical-align: top;\n",
       "    }\n",
       "\n",
       "    .dataframe thead th {\n",
       "        text-align: right;\n",
       "    }\n",
       "</style>\n",
       "<table border=\"1\" class=\"dataframe\">\n",
       "  <thead>\n",
       "    <tr style=\"text-align: right;\">\n",
       "      <th></th>\n",
       "      <th>Restaurant ID</th>\n",
       "      <th>Restaurant Name</th>\n",
       "      <th>Country Code</th>\n",
       "      <th>City</th>\n",
       "      <th>Address</th>\n",
       "      <th>Locality</th>\n",
       "      <th>Locality Verbose</th>\n",
       "      <th>Longitude</th>\n",
       "      <th>Latitude</th>\n",
       "      <th>Cuisines</th>\n",
       "      <th>...</th>\n",
       "      <th>Has Table booking</th>\n",
       "      <th>Has Online delivery</th>\n",
       "      <th>Is delivering now</th>\n",
       "      <th>Switch to order menu</th>\n",
       "      <th>Price range</th>\n",
       "      <th>Aggregate rating</th>\n",
       "      <th>Rating color</th>\n",
       "      <th>Rating text</th>\n",
       "      <th>Votes</th>\n",
       "      <th>Region</th>\n",
       "    </tr>\n",
       "  </thead>\n",
       "  <tbody>\n",
       "    <tr>\n",
       "      <th>0</th>\n",
       "      <td>3400025</td>\n",
       "      <td>Jahanpanah</td>\n",
       "      <td>1</td>\n",
       "      <td>Agra</td>\n",
       "      <td>E 23, Shopping Arcade, Sadar Bazaar, Agra Cant...</td>\n",
       "      <td>Agra Cantt</td>\n",
       "      <td>Agra Cantt, Agra</td>\n",
       "      <td>78.011544</td>\n",
       "      <td>27.161661</td>\n",
       "      <td>North Indian, Mughlai</td>\n",
       "      <td>...</td>\n",
       "      <td>No</td>\n",
       "      <td>No</td>\n",
       "      <td>No</td>\n",
       "      <td>No</td>\n",
       "      <td>3</td>\n",
       "      <td>3.9</td>\n",
       "      <td>Yellow</td>\n",
       "      <td>Good</td>\n",
       "      <td>140</td>\n",
       "      <td>Rest of India</td>\n",
       "    </tr>\n",
       "    <tr>\n",
       "      <th>1</th>\n",
       "      <td>3400341</td>\n",
       "      <td>Rangrezz Restaurant</td>\n",
       "      <td>1</td>\n",
       "      <td>Agra</td>\n",
       "      <td>E-20, Shopping Arcade, Sadar Bazaar, Agra Cant...</td>\n",
       "      <td>Agra Cantt</td>\n",
       "      <td>Agra Cantt, Agra</td>\n",
       "      <td>0.000000</td>\n",
       "      <td>0.000000</td>\n",
       "      <td>North Indian, Mughlai</td>\n",
       "      <td>...</td>\n",
       "      <td>No</td>\n",
       "      <td>No</td>\n",
       "      <td>No</td>\n",
       "      <td>No</td>\n",
       "      <td>2</td>\n",
       "      <td>3.5</td>\n",
       "      <td>Yellow</td>\n",
       "      <td>Good</td>\n",
       "      <td>71</td>\n",
       "      <td>Rest of India</td>\n",
       "    </tr>\n",
       "    <tr>\n",
       "      <th>2</th>\n",
       "      <td>3400005</td>\n",
       "      <td>Time2Eat - Mama Chicken</td>\n",
       "      <td>1</td>\n",
       "      <td>Agra</td>\n",
       "      <td>Main Market, Sadar Bazaar, Agra Cantt, Agra</td>\n",
       "      <td>Agra Cantt</td>\n",
       "      <td>Agra Cantt, Agra</td>\n",
       "      <td>78.011608</td>\n",
       "      <td>27.160832</td>\n",
       "      <td>North Indian</td>\n",
       "      <td>...</td>\n",
       "      <td>No</td>\n",
       "      <td>No</td>\n",
       "      <td>No</td>\n",
       "      <td>No</td>\n",
       "      <td>2</td>\n",
       "      <td>3.6</td>\n",
       "      <td>Yellow</td>\n",
       "      <td>Good</td>\n",
       "      <td>94</td>\n",
       "      <td>Rest of India</td>\n",
       "    </tr>\n",
       "    <tr>\n",
       "      <th>3</th>\n",
       "      <td>3400021</td>\n",
       "      <td>Chokho Jeeman Marwari Jain Bhojanalya</td>\n",
       "      <td>1</td>\n",
       "      <td>Agra</td>\n",
       "      <td>1/48, Delhi Gate, Station Road, Raja Mandi, Ci...</td>\n",
       "      <td>Civil Lines</td>\n",
       "      <td>Civil Lines, Agra</td>\n",
       "      <td>77.998092</td>\n",
       "      <td>27.195928</td>\n",
       "      <td>Rajasthani</td>\n",
       "      <td>...</td>\n",
       "      <td>No</td>\n",
       "      <td>No</td>\n",
       "      <td>No</td>\n",
       "      <td>No</td>\n",
       "      <td>2</td>\n",
       "      <td>4.0</td>\n",
       "      <td>Green</td>\n",
       "      <td>Very Good</td>\n",
       "      <td>87</td>\n",
       "      <td>Rest of India</td>\n",
       "    </tr>\n",
       "    <tr>\n",
       "      <th>4</th>\n",
       "      <td>3400017</td>\n",
       "      <td>Pinch Of Spice</td>\n",
       "      <td>1</td>\n",
       "      <td>Agra</td>\n",
       "      <td>23/453, Opposite Sanjay Cinema, Wazipura Road,...</td>\n",
       "      <td>Civil Lines</td>\n",
       "      <td>Civil Lines, Agra</td>\n",
       "      <td>78.007553</td>\n",
       "      <td>27.201725</td>\n",
       "      <td>North Indian, Chinese, Mughlai</td>\n",
       "      <td>...</td>\n",
       "      <td>No</td>\n",
       "      <td>No</td>\n",
       "      <td>No</td>\n",
       "      <td>No</td>\n",
       "      <td>3</td>\n",
       "      <td>4.2</td>\n",
       "      <td>Green</td>\n",
       "      <td>Very Good</td>\n",
       "      <td>177</td>\n",
       "      <td>Rest of India</td>\n",
       "    </tr>\n",
       "    <tr>\n",
       "      <th>...</th>\n",
       "      <td>...</td>\n",
       "      <td>...</td>\n",
       "      <td>...</td>\n",
       "      <td>...</td>\n",
       "      <td>...</td>\n",
       "      <td>...</td>\n",
       "      <td>...</td>\n",
       "      <td>...</td>\n",
       "      <td>...</td>\n",
       "      <td>...</td>\n",
       "      <td>...</td>\n",
       "      <td>...</td>\n",
       "      <td>...</td>\n",
       "      <td>...</td>\n",
       "      <td>...</td>\n",
       "      <td>...</td>\n",
       "      <td>...</td>\n",
       "      <td>...</td>\n",
       "      <td>...</td>\n",
       "      <td>...</td>\n",
       "      <td>...</td>\n",
       "    </tr>\n",
       "    <tr>\n",
       "      <th>8647</th>\n",
       "      <td>2800100</td>\n",
       "      <td>D Cabana</td>\n",
       "      <td>1</td>\n",
       "      <td>Vizag</td>\n",
       "      <td>Beach Road, Near Bus Stop, Sagar Nagar, Visakh...</td>\n",
       "      <td>Sagar Nagar</td>\n",
       "      <td>Sagar Nagar, Vizag</td>\n",
       "      <td>83.361377</td>\n",
       "      <td>17.764287</td>\n",
       "      <td>Continental, Seafood, Chinese, North Indian, B...</td>\n",
       "      <td>...</td>\n",
       "      <td>No</td>\n",
       "      <td>No</td>\n",
       "      <td>No</td>\n",
       "      <td>No</td>\n",
       "      <td>2</td>\n",
       "      <td>3.6</td>\n",
       "      <td>Yellow</td>\n",
       "      <td>Good</td>\n",
       "      <td>193</td>\n",
       "      <td>Rest of India</td>\n",
       "    </tr>\n",
       "    <tr>\n",
       "      <th>8648</th>\n",
       "      <td>2800418</td>\n",
       "      <td>Kaloreez</td>\n",
       "      <td>1</td>\n",
       "      <td>Vizag</td>\n",
       "      <td>Plot 95, Opposite St. Lukes Nursing School, Da...</td>\n",
       "      <td>Siripuram</td>\n",
       "      <td>Siripuram, Vizag</td>\n",
       "      <td>0.000000</td>\n",
       "      <td>0.000000</td>\n",
       "      <td>Cafe, North Indian, Chinese</td>\n",
       "      <td>...</td>\n",
       "      <td>No</td>\n",
       "      <td>No</td>\n",
       "      <td>No</td>\n",
       "      <td>No</td>\n",
       "      <td>2</td>\n",
       "      <td>3.7</td>\n",
       "      <td>Yellow</td>\n",
       "      <td>Good</td>\n",
       "      <td>85</td>\n",
       "      <td>Rest of India</td>\n",
       "    </tr>\n",
       "    <tr>\n",
       "      <th>8649</th>\n",
       "      <td>2800881</td>\n",
       "      <td>Plot 17</td>\n",
       "      <td>1</td>\n",
       "      <td>Vizag</td>\n",
       "      <td>Plot 17, Gangapur Layout, Siripuram, Vizag</td>\n",
       "      <td>Siripuram</td>\n",
       "      <td>Siripuram, Vizag</td>\n",
       "      <td>83.315281</td>\n",
       "      <td>17.719539</td>\n",
       "      <td>Burger, Pizza, Biryani</td>\n",
       "      <td>...</td>\n",
       "      <td>No</td>\n",
       "      <td>No</td>\n",
       "      <td>No</td>\n",
       "      <td>No</td>\n",
       "      <td>2</td>\n",
       "      <td>4.3</td>\n",
       "      <td>Green</td>\n",
       "      <td>Very Good</td>\n",
       "      <td>172</td>\n",
       "      <td>Rest of India</td>\n",
       "    </tr>\n",
       "    <tr>\n",
       "      <th>8650</th>\n",
       "      <td>2800042</td>\n",
       "      <td>Vista - The Park</td>\n",
       "      <td>1</td>\n",
       "      <td>Vizag</td>\n",
       "      <td>The Park, Beach Road, Pedda Waltair, Lawsons B...</td>\n",
       "      <td>The Park, Lawsons Bay</td>\n",
       "      <td>The Park, Lawsons Bay, Vizag</td>\n",
       "      <td>83.336840</td>\n",
       "      <td>17.721182</td>\n",
       "      <td>American, North Indian, Thai, Continental</td>\n",
       "      <td>...</td>\n",
       "      <td>No</td>\n",
       "      <td>No</td>\n",
       "      <td>No</td>\n",
       "      <td>No</td>\n",
       "      <td>4</td>\n",
       "      <td>3.8</td>\n",
       "      <td>Yellow</td>\n",
       "      <td>Good</td>\n",
       "      <td>74</td>\n",
       "      <td>Rest of India</td>\n",
       "    </tr>\n",
       "    <tr>\n",
       "      <th>8651</th>\n",
       "      <td>2800019</td>\n",
       "      <td>Flying Spaghetti Monster</td>\n",
       "      <td>1</td>\n",
       "      <td>Vizag</td>\n",
       "      <td>10-50-12/F2, Sai Dakshata Complex, Beside Leno...</td>\n",
       "      <td>Waltair Uplands</td>\n",
       "      <td>Waltair Uplands, Vizag</td>\n",
       "      <td>83.314942</td>\n",
       "      <td>17.721119</td>\n",
       "      <td>Italian</td>\n",
       "      <td>...</td>\n",
       "      <td>No</td>\n",
       "      <td>No</td>\n",
       "      <td>No</td>\n",
       "      <td>No</td>\n",
       "      <td>3</td>\n",
       "      <td>4.4</td>\n",
       "      <td>Green</td>\n",
       "      <td>Very Good</td>\n",
       "      <td>316</td>\n",
       "      <td>Rest of India</td>\n",
       "    </tr>\n",
       "  </tbody>\n",
       "</table>\n",
       "<p>8652 rows × 22 columns</p>\n",
       "</div>"
      ],
      "text/plain": [
       "      Restaurant ID                        Restaurant Name  Country Code  \\\n",
       "0           3400025                             Jahanpanah             1   \n",
       "1           3400341                    Rangrezz Restaurant             1   \n",
       "2           3400005                Time2Eat - Mama Chicken             1   \n",
       "3           3400021  Chokho Jeeman Marwari Jain Bhojanalya             1   \n",
       "4           3400017                         Pinch Of Spice             1   \n",
       "...             ...                                    ...           ...   \n",
       "8647        2800100                               D Cabana             1   \n",
       "8648        2800418                               Kaloreez             1   \n",
       "8649        2800881                                Plot 17             1   \n",
       "8650        2800042                       Vista - The Park             1   \n",
       "8651        2800019               Flying Spaghetti Monster             1   \n",
       "\n",
       "       City                                            Address  \\\n",
       "0      Agra  E 23, Shopping Arcade, Sadar Bazaar, Agra Cant...   \n",
       "1      Agra  E-20, Shopping Arcade, Sadar Bazaar, Agra Cant...   \n",
       "2      Agra        Main Market, Sadar Bazaar, Agra Cantt, Agra   \n",
       "3      Agra  1/48, Delhi Gate, Station Road, Raja Mandi, Ci...   \n",
       "4      Agra  23/453, Opposite Sanjay Cinema, Wazipura Road,...   \n",
       "...     ...                                                ...   \n",
       "8647  Vizag  Beach Road, Near Bus Stop, Sagar Nagar, Visakh...   \n",
       "8648  Vizag  Plot 95, Opposite St. Lukes Nursing School, Da...   \n",
       "8649  Vizag         Plot 17, Gangapur Layout, Siripuram, Vizag   \n",
       "8650  Vizag  The Park, Beach Road, Pedda Waltair, Lawsons B...   \n",
       "8651  Vizag  10-50-12/F2, Sai Dakshata Complex, Beside Leno...   \n",
       "\n",
       "                   Locality              Locality Verbose  Longitude  \\\n",
       "0                Agra Cantt              Agra Cantt, Agra  78.011544   \n",
       "1                Agra Cantt              Agra Cantt, Agra   0.000000   \n",
       "2                Agra Cantt              Agra Cantt, Agra  78.011608   \n",
       "3               Civil Lines             Civil Lines, Agra  77.998092   \n",
       "4               Civil Lines             Civil Lines, Agra  78.007553   \n",
       "...                     ...                           ...        ...   \n",
       "8647            Sagar Nagar            Sagar Nagar, Vizag  83.361377   \n",
       "8648              Siripuram              Siripuram, Vizag   0.000000   \n",
       "8649              Siripuram              Siripuram, Vizag  83.315281   \n",
       "8650  The Park, Lawsons Bay  The Park, Lawsons Bay, Vizag  83.336840   \n",
       "8651        Waltair Uplands        Waltair Uplands, Vizag  83.314942   \n",
       "\n",
       "       Latitude                                           Cuisines  ...  \\\n",
       "0     27.161661                              North Indian, Mughlai  ...   \n",
       "1      0.000000                              North Indian, Mughlai  ...   \n",
       "2     27.160832                                       North Indian  ...   \n",
       "3     27.195928                                         Rajasthani  ...   \n",
       "4     27.201725                     North Indian, Chinese, Mughlai  ...   \n",
       "...         ...                                                ...  ...   \n",
       "8647  17.764287  Continental, Seafood, Chinese, North Indian, B...  ...   \n",
       "8648   0.000000                        Cafe, North Indian, Chinese  ...   \n",
       "8649  17.719539                             Burger, Pizza, Biryani  ...   \n",
       "8650  17.721182          American, North Indian, Thai, Continental  ...   \n",
       "8651  17.721119                                            Italian  ...   \n",
       "\n",
       "      Has Table booking Has Online delivery Is delivering now  \\\n",
       "0                    No                  No                No   \n",
       "1                    No                  No                No   \n",
       "2                    No                  No                No   \n",
       "3                    No                  No                No   \n",
       "4                    No                  No                No   \n",
       "...                 ...                 ...               ...   \n",
       "8647                 No                  No                No   \n",
       "8648                 No                  No                No   \n",
       "8649                 No                  No                No   \n",
       "8650                 No                  No                No   \n",
       "8651                 No                  No                No   \n",
       "\n",
       "     Switch to order menu Price range Aggregate rating  Rating color  \\\n",
       "0                      No           3              3.9        Yellow   \n",
       "1                      No           2              3.5        Yellow   \n",
       "2                      No           2              3.6        Yellow   \n",
       "3                      No           2              4.0         Green   \n",
       "4                      No           3              4.2         Green   \n",
       "...                   ...         ...              ...           ...   \n",
       "8647                   No           2              3.6        Yellow   \n",
       "8648                   No           2              3.7        Yellow   \n",
       "8649                   No           2              4.3         Green   \n",
       "8650                   No           4              3.8        Yellow   \n",
       "8651                   No           3              4.4         Green   \n",
       "\n",
       "      Rating text Votes         Region  \n",
       "0            Good   140  Rest of India  \n",
       "1            Good    71  Rest of India  \n",
       "2            Good    94  Rest of India  \n",
       "3       Very Good    87  Rest of India  \n",
       "4       Very Good   177  Rest of India  \n",
       "...           ...   ...            ...  \n",
       "8647         Good   193  Rest of India  \n",
       "8648         Good    85  Rest of India  \n",
       "8649    Very Good   172  Rest of India  \n",
       "8650         Good    74  Rest of India  \n",
       "8651    Very Good   316  Rest of India  \n",
       "\n",
       "[8652 rows x 22 columns]"
      ]
     },
     "execution_count": 4,
     "metadata": {},
     "output_type": "execute_result"
    }
   ],
   "source": [
    "df = df[df['Country Code'] == 1]\n",
    "df['Region'] = df['City'].apply(get_region)\n",
    "df.reset_index(drop=True, inplace=True)\n",
    "df"
   ]
  },
  {
   "cell_type": "markdown",
   "id": "d4d1328d",
   "metadata": {},
   "source": [
    "# 1.) Plot the bar graph of number of restaurants present in Delhi NCR vs Rest of India"
   ]
  },
  {
   "cell_type": "markdown",
   "id": "7d89172a",
   "metadata": {},
   "source": [
    "### use value_counts() method on 'Region' Column"
   ]
  },
  {
   "cell_type": "code",
   "execution_count": 5,
   "id": "62573b89",
   "metadata": {},
   "outputs": [
    {
     "data": {
      "text/plain": [
       "Delhi-NCR        7947\n",
       "Rest of India     705\n",
       "Name: Region, dtype: int64"
      ]
     },
     "execution_count": 5,
     "metadata": {},
     "output_type": "execute_result"
    }
   ],
   "source": [
    "result = df['Region'].value_counts()\n",
    "result"
   ]
  },
  {
   "cell_type": "markdown",
   "id": "bd152915",
   "metadata": {},
   "source": [
    "## Plot the graph"
   ]
  },
  {
   "cell_type": "code",
   "execution_count": 6,
   "id": "6f14bb4f",
   "metadata": {},
   "outputs": [
    {
     "data": {
      "image/png": "[encoded data removed]",
      "text/plain": [
       "<Figure size 432x288 with 1 Axes>"
      ]
     },
     "metadata": {
      "needs_background": "light"
     },
     "output_type": "display_data"
    }
   ],
   "source": [
    "plt.bar(result.index, result.values, width=0.6)\n",
    "\n",
    "plt.xlabel('Regions')\n",
    "plt.ylabel('Number of Restaurants')\n",
    "\n",
    "plt.title('Number of restaurants present in Delhi NCR vs Rest of India')\n",
    "plt.show()"
   ]
  },
  {
   "cell_type": "markdown",
   "id": "05f11f73",
   "metadata": {},
   "source": [
    "# |||||||||||||||||||||||||||||||||||||||||||||||||||||||||||||||||||||||||||||||||||||||||||||||||||||||||||||||||||||||||||||||"
   ]
  },
  {
   "cell_type": "markdown",
   "id": "a675261c",
   "metadata": {},
   "source": [
    "# 2.) Find the cuisines which are not present in restaurant of Delhi NCR but present in rest of India."
   ]
  },
  {
   "cell_type": "markdown",
   "id": "14eee7b5",
   "metadata": {},
   "source": [
    "### Create two sets that store cuisines of ncr and rest of india"
   ]
  },
  {
   "cell_type": "code",
   "execution_count": 7,
   "id": "0f3be116",
   "metadata": {},
   "outputs": [],
   "source": [
    "ncr_cuisines = set()\n",
    "rest_cuisines = set()"
   ]
  },
  {
   "cell_type": "code",
   "execution_count": 8,
   "id": "6d038506",
   "metadata": {},
   "outputs": [],
   "source": [
    "for i in range(len(df.index)):\n",
    "    region = df.iloc[i].Region\n",
    "    cuisines = df.iloc[i].Cuisines.strip()\n",
    "    \n",
    "    for cuisine in cuisines.split(','):\n",
    "        cuisine = cuisine.strip()\n",
    "        \n",
    "        if region == 'Delhi-NCR':\n",
    "            ncr_cuisines.add(cuisine)\n",
    "        else:\n",
    "            rest_cuisines.add(cuisine)"
   ]
  },
  {
   "cell_type": "markdown",
   "id": "da21b3eb",
   "metadata": {},
   "source": [
    "*cuisines which are not present in restaurant of Delhi NCR but present in rest of India* = ***rest_cuisines - ncr_cuisines***"
   ]
  },
  {
   "cell_type": "code",
   "execution_count": 9,
   "id": "d0f0fe6f",
   "metadata": {},
   "outputs": [
    {
     "name": "stdout",
     "output_type": "stream",
     "text": [
      "Cuisines served in India except Delhi-NCR region are: {'German', 'BBQ', 'Malwani', 'Cajun'}\n"
     ]
    }
   ],
   "source": [
    "rest_cuisines_but_not_ncr_cuisines = rest_cuisines.difference(ncr_cuisines)\n",
    "\n",
    "print('Cuisines served in India except Delhi-NCR region are: ', end='')\n",
    "print(rest_cuisines_but_not_ncr_cuisines)"
   ]
  },
  {
   "cell_type": "markdown",
   "id": "4fe8e448",
   "metadata": {},
   "source": [
    "# |||||||||||||||||||||||||||||||||||||||||||||||||||||||||||||||||||||||||||||||||||||||||||||||||||||||||||||||||||||||||||||||"
   ]
  },
  {
   "cell_type": "markdown",
   "id": "0b8f57e0",
   "metadata": {},
   "source": [
    "# 3.) Find the top 10 cuisines served by maximum number of restaurants in Delhi NCR and rest of India."
   ]
  },
  {
   "cell_type": "markdown",
   "id": "0f3a4d4e",
   "metadata": {},
   "source": [
    "## Top 10 Cuisines in NCR"
   ]
  },
  {
   "cell_type": "markdown",
   "id": "25bab276",
   "metadata": {},
   "source": [
    "### Load data related to ncr region only"
   ]
  },
  {
   "cell_type": "code",
   "execution_count": 10,
   "id": "afc9f785",
   "metadata": {},
   "outputs": [
    {
     "data": {
      "text/plain": [
       "241     Chinese, Fast Food, Bakery\n",
       "242          North Indian, Chinese\n",
       "243                   North Indian\n",
       "244                   North Indian\n",
       "245                         Bakery\n",
       "                   ...            \n",
       "8484         North Indian, Chinese\n",
       "8485                     Fast Food\n",
       "8486                     Fast Food\n",
       "8487         North Indian, Chinese\n",
       "8488          Raw Meats, Fast Food\n",
       "Name: Cuisines, Length: 7947, dtype: object"
      ]
     },
     "execution_count": 10,
     "metadata": {},
     "output_type": "execute_result"
    }
   ],
   "source": [
    "ncr_df = df[df['Region'] == 'Delhi-NCR']\n",
    "ncr_cuisines_df = ncr_df['Cuisines']\n",
    "ncr_cuisines_df"
   ]
  },
  {
   "cell_type": "markdown",
   "id": "35ed115a",
   "metadata": {},
   "source": [
    "### Create a dictionary and store cuisines as key and their count as value."
   ]
  },
  {
   "cell_type": "code",
   "execution_count": 11,
   "id": "7da86f46",
   "metadata": {},
   "outputs": [
    {
     "data": {
      "text/plain": [
       "{'Chinese': 2448,\n",
       " 'Fast Food': 1866,\n",
       " 'Bakery': 697,\n",
       " 'North Indian': 3597,\n",
       " 'Mithai': 379,\n",
       " 'Mughlai': 933,\n",
       " 'Cafe': 491,\n",
       " 'Raw Meats': 114,\n",
       " 'Burger': 152,\n",
       " 'South Indian': 569,\n",
       " 'Gujarati': 8,\n",
       " 'Rajasthani': 14,\n",
       " 'Thai': 176,\n",
       " 'Desserts': 542,\n",
       " 'American': 193,\n",
       " 'Salad': 89,\n",
       " 'Healthy Food': 143,\n",
       " 'Ice Cream': 210,\n",
       " 'Continental': 547,\n",
       " 'Beverages': 204,\n",
       " 'Italian': 535,\n",
       " 'Pizza': 282,\n",
       " 'Street Food': 538,\n",
       " 'Mexican': 80,\n",
       " 'Juices': 23,\n",
       " 'Asian': 151,\n",
       " 'Seafood': 53,\n",
       " 'Biryani': 160,\n",
       " 'Mediterranean': 60,\n",
       " 'Finger Food': 92,\n",
       " 'Kerala': 15,\n",
       " 'Japanese': 75,\n",
       " 'Lebanese': 57,\n",
       " 'Tea': 38,\n",
       " 'Belgian': 1,\n",
       " 'Kashmiri': 20,\n",
       " 'Sushi': 21,\n",
       " 'European': 87,\n",
       " 'South American': 2,\n",
       " 'Burmese': 6,\n",
       " 'Persian': 1,\n",
       " 'Arabian': 15,\n",
       " 'Steak': 1,\n",
       " 'Bengali': 27,\n",
       " 'Modern Indian': 9,\n",
       " 'Portuguese': 5,\n",
       " 'African': 4,\n",
       " 'Parsi': 7,\n",
       " 'Iranian': 3,\n",
       " 'Malaysian': 15,\n",
       " 'Vietnamese': 12,\n",
       " 'Greek': 2,\n",
       " 'Lucknowi': 12,\n",
       " 'Tibetan': 41,\n",
       " 'Korean': 15,\n",
       " 'Awadhi': 10,\n",
       " 'Hyderabadi': 23,\n",
       " 'Nepalese': 9,\n",
       " 'Drinks Only': 2,\n",
       " 'Pakistani': 2,\n",
       " 'Tex-Mex': 9,\n",
       " 'North Eastern': 7,\n",
       " 'Oriya': 2,\n",
       " 'Chettinad': 8,\n",
       " 'Bihari': 6,\n",
       " 'Afghani': 11,\n",
       " 'Middle Eastern': 11,\n",
       " 'Indonesian': 4,\n",
       " 'Goan': 6,\n",
       " 'Charcoal Grill': 1,\n",
       " 'Assamese': 4,\n",
       " 'Cuisine Varies': 1,\n",
       " 'Andhra': 3,\n",
       " 'Turkish': 8,\n",
       " 'Moroccan': 5,\n",
       " 'Indian': 5,\n",
       " 'French': 6,\n",
       " 'Maharashtrian': 6,\n",
       " 'Naga': 8,\n",
       " 'British': 2,\n",
       " 'Spanish': 5,\n",
       " 'Deli': 1,\n",
       " 'Sandwich': 1,\n",
       " 'Armenian': 2,\n",
       " 'Mangalorean': 1,\n",
       " 'Sri Lankan': 1}"
      ]
     },
     "execution_count": 11,
     "metadata": {},
     "output_type": "execute_result"
    }
   ],
   "source": [
    "ncr_cuisines_count_map = {}\n",
    "for cuisines in ncr_cuisines_df:\n",
    "    for cuisine in cuisines.split(','):\n",
    "        cuisine = cuisine.strip()\n",
    "        ncr_cuisines_count_map[cuisine] = ncr_cuisines_count_map.get(cuisine, 0) +1\n",
    "        \n",
    "ncr_cuisines_count_map"
   ]
  },
  {
   "cell_type": "markdown",
   "id": "b311461a",
   "metadata": {},
   "source": [
    "### Extract Top 10 cuisines from dictionary based on count"
   ]
  },
  {
   "cell_type": "code",
   "execution_count": 12,
   "id": "de653071",
   "metadata": {},
   "outputs": [
    {
     "name": "stdout",
     "output_type": "stream",
     "text": [
      "Top 10 Cuisines of Delhi NCR are:\n",
      "[['North Indian' '3597']\n",
      " ['Chinese' '2448']\n",
      " ['Fast Food' '1866']\n",
      " ['Mughlai' '933']\n",
      " ['Bakery' '697']\n",
      " ['South Indian' '569']\n",
      " ['Continental' '547']\n",
      " ['Desserts' '542']\n",
      " ['Street Food' '538']\n",
      " ['Italian' '535']]\n"
     ]
    }
   ],
   "source": [
    "top_10_ncr_cuisines = np.array(sorted(ncr_cuisines_count_map.items(), key = lambda x: x[1], reverse = True)[:10])\n",
    "print('Top 10 Cuisines of Delhi NCR are:')\n",
    "print(top_10_ncr_cuisines)"
   ]
  },
  {
   "cell_type": "code",
   "execution_count": 13,
   "id": "7979ae85",
   "metadata": {},
   "outputs": [],
   "source": [
    "top_10_ncr_cuisines_name = top_10_ncr_cuisines[:, 0]\n",
    "top_10_ncr_cuisines_count = top_10_ncr_cuisines[:, 1].astype(int)"
   ]
  },
  {
   "cell_type": "markdown",
   "id": "1702a7f1",
   "metadata": {},
   "source": [
    "## Plot the graph"
   ]
  },
  {
   "cell_type": "code",
   "execution_count": 14,
   "id": "57ddb242",
   "metadata": {},
   "outputs": [
    {
     "data": {
      "image/png": "[encoded data removed]",
      "text/plain": [
       "<Figure size 432x288 with 1 Axes>"
      ]
     },
     "metadata": {
      "needs_background": "light"
     },
     "output_type": "display_data"
    }
   ],
   "source": [
    "plt.bar(top_10_ncr_cuisines_name, top_10_ncr_cuisines_count, width=0.6)\n",
    "plt.xticks(rotation=90)\n",
    "\n",
    "plt.xlabel('Cuisines')\n",
    "plt.ylabel('Number of Restaurants serving cuisines')\n",
    "\n",
    "plt.title('Top 10 NCR Cuisines')\n",
    "plt.show()"
   ]
  },
  {
   "cell_type": "markdown",
   "id": "d951718c",
   "metadata": {},
   "source": [
    "# |||||||||||||||||||||||||||||||||||||||||||||||||||||||||||||||||||||||||||||||||||||||||||||||||||||||||||||||||||||||||||||||"
   ]
  },
  {
   "cell_type": "markdown",
   "id": "45fda9a0",
   "metadata": {},
   "source": [
    "## Top 10 Cuisines in Rest of India"
   ]
  },
  {
   "cell_type": "markdown",
   "id": "c6b14aaa",
   "metadata": {},
   "source": [
    "### Load data related to rest of India region only"
   ]
  },
  {
   "cell_type": "code",
   "execution_count": 15,
   "id": "27941897",
   "metadata": {},
   "outputs": [],
   "source": [
    "rest_df = df[df['Region'] == 'Rest of India']\n",
    "rest_cuisines_df = rest_df['Cuisines']\n",
    "rest_cuisines_df.reset_index(drop=True, inplace=True)\n",
    "# rest_cuisines_df"
   ]
  },
  {
   "cell_type": "markdown",
   "id": "3aa7d9c5",
   "metadata": {},
   "source": [
    "### Create a dictionary and store cuisines as key and their count as value."
   ]
  },
  {
   "cell_type": "code",
   "execution_count": 16,
   "id": "a04245fb",
   "metadata": {},
   "outputs": [
    {
     "data": {
      "text/plain": [
       "{'North Indian': 349,\n",
       " 'Mughlai': 59,\n",
       " 'Rajasthani': 6,\n",
       " 'Chinese': 242,\n",
       " 'European': 32,\n",
       " 'Gujarati': 3,\n",
       " 'Continental': 177,\n",
       " 'South Indian': 62,\n",
       " 'Desserts': 55,\n",
       " 'Cafe': 136,\n",
       " 'Italian': 147,\n",
       " 'Mexican': 50,\n",
       " 'Pizza': 31,\n",
       " 'Fast Food': 97,\n",
       " 'Mediterranean': 30,\n",
       " 'Thai': 29,\n",
       " 'Ice Cream': 6,\n",
       " 'Beverages': 12,\n",
       " 'Asian': 35,\n",
       " 'Street Food': 16,\n",
       " 'Sandwich': 1,\n",
       " 'Burger': 13,\n",
       " 'Healthy Food': 3,\n",
       " 'American': 32,\n",
       " 'Armenian': 1,\n",
       " 'Salad': 3,\n",
       " 'Bakery': 29,\n",
       " 'Mithai': 1,\n",
       " 'Biryani': 15,\n",
       " 'Juices': 3,\n",
       " 'Maharashtrian': 4,\n",
       " 'Hyderabadi': 2,\n",
       " 'Modern Indian': 7,\n",
       " 'Finger Food': 17,\n",
       " 'Tex-Mex': 7,\n",
       " 'Arabian': 5,\n",
       " 'Charcoal Grill': 3,\n",
       " 'Steak': 1,\n",
       " 'Seafood': 28,\n",
       " 'Tea': 6,\n",
       " 'Japanese': 7,\n",
       " 'Malaysian': 3,\n",
       " 'Burmese': 4,\n",
       " 'Chettinad': 3,\n",
       " 'Spanish': 2,\n",
       " 'Greek': 3,\n",
       " 'Indian': 2,\n",
       " 'Parsi': 1,\n",
       " 'Tibetan': 3,\n",
       " 'French': 6,\n",
       " 'Goan': 13,\n",
       " 'German': 2,\n",
       " 'Andhra': 7,\n",
       " 'Bengali': 2,\n",
       " 'Awadhi': 1,\n",
       " 'Lebanese': 8,\n",
       " 'Kerala': 7,\n",
       " 'Middle Eastern': 2,\n",
       " 'Lucknowi': 1,\n",
       " 'Portuguese': 1,\n",
       " 'African': 1,\n",
       " 'Mangalorean': 3,\n",
       " 'British': 1,\n",
       " 'Malwani': 1,\n",
       " 'Vietnamese': 2,\n",
       " 'Korean': 1,\n",
       " 'Indonesian': 2,\n",
       " 'North Eastern': 1,\n",
       " 'BBQ': 1,\n",
       " 'Cajun': 1}"
      ]
     },
     "execution_count": 16,
     "metadata": {},
     "output_type": "execute_result"
    }
   ],
   "source": [
    "rest_cuisines_count_map = {}\n",
    "for cuisines in rest_cuisines_df:\n",
    "    for cuisine in cuisines.split(','):\n",
    "        cuisine = cuisine.strip()\n",
    "        rest_cuisines_count_map[cuisine] = rest_cuisines_count_map.get(cuisine, 0) +1\n",
    "        \n",
    "rest_cuisines_count_map"
   ]
  },
  {
   "cell_type": "markdown",
   "id": "d21d7103",
   "metadata": {},
   "source": [
    "### Extract Top 10 cuisines from dictionary based on count"
   ]
  },
  {
   "cell_type": "code",
   "execution_count": 17,
   "id": "20f48f55",
   "metadata": {},
   "outputs": [
    {
     "name": "stdout",
     "output_type": "stream",
     "text": [
      "Top 10 Cuisines of India except Delhi-NCR Region are:\n",
      "[['North Indian' '349']\n",
      " ['Chinese' '242']\n",
      " ['Continental' '177']\n",
      " ['Italian' '147']\n",
      " ['Cafe' '136']\n",
      " ['Fast Food' '97']\n",
      " ['South Indian' '62']\n",
      " ['Mughlai' '59']\n",
      " ['Desserts' '55']\n",
      " ['Mexican' '50']]\n"
     ]
    }
   ],
   "source": [
    "top_10_rest_cuisines = np.array(sorted(rest_cuisines_count_map.items(), key = lambda x: x[1], reverse = True)[:10])\n",
    "print('Top 10 Cuisines of India except Delhi-NCR Region are:')\n",
    "print(top_10_rest_cuisines)"
   ]
  },
  {
   "cell_type": "code",
   "execution_count": 18,
   "id": "1e8a0b1b",
   "metadata": {},
   "outputs": [],
   "source": [
    "top_10_rest_cuisines_name = top_10_rest_cuisines[:, 0]\n",
    "top_10_rest_cuisines_count = top_10_rest_cuisines[:, 1].astype(int)"
   ]
  },
  {
   "cell_type": "markdown",
   "id": "04432138",
   "metadata": {},
   "source": [
    "## Plot the graph"
   ]
  },
  {
   "cell_type": "code",
   "execution_count": 19,
   "id": "270e179a",
   "metadata": {},
   "outputs": [
    {
     "data": {
      "image/png": "[encoded data removed]",
      "text/plain": [
       "<Figure size 432x288 with 1 Axes>"
      ]
     },
     "metadata": {
      "needs_background": "light"
     },
     "output_type": "display_data"
    }
   ],
   "source": [
    "plt.bar(top_10_rest_cuisines_name, top_10_rest_cuisines_count, width=0.6)\n",
    "plt.xticks(rotation=90)\n",
    "\n",
    "plt.xlabel('Cuisines')\n",
    "plt.ylabel('Number of Restaurants serving cuisines')\n",
    "\n",
    "plt.title('Top 10 Rest of India Cuisines')\n",
    "plt.show()"
   ]
  },
  {
   "cell_type": "markdown",
   "id": "68818693",
   "metadata": {},
   "source": [
    "# |||||||||||||||||||||||||||||||||||||||||||||||||||||||||||||||||||||||||||||||||||||||||||||||||||||||||||||||||||||||||||||||"
   ]
  },
  {
   "cell_type": "markdown",
   "id": "fe7fcab6",
   "metadata": {},
   "source": [
    "# 4.) Write a short detailed analysis of how cuisine served is different from Delhi NCR to Rest of India. Plot the suitable graph to explain your inference."
   ]
  },
  {
   "cell_type": "markdown",
   "id": "0c6ca469",
   "metadata": {},
   "source": [
    "## a.) Number of Cuisines in both region"
   ]
  },
  {
   "cell_type": "code",
   "execution_count": 20,
   "id": "504e6dd2",
   "metadata": {},
   "outputs": [
    {
     "name": "stdout",
     "output_type": "stream",
     "text": [
      "Total number of Cuisines served in Delhi-NCR Region is: 86\n",
      "Total number of Cuisines served in Rest of India Region is: 70\n"
     ]
    }
   ],
   "source": [
    "print('Total number of Cuisines served in Delhi-NCR Region is:', len(ncr_cuisines_count_map.keys()))\n",
    "print('Total number of Cuisines served in Rest of India Region is:', len(rest_cuisines_count_map.keys()))"
   ]
  },
  {
   "cell_type": "markdown",
   "id": "2a2dcb31",
   "metadata": {},
   "source": [
    "## b.) Unique Cuisines served in one region but not in another region"
   ]
  },
  {
   "cell_type": "code",
   "execution_count": 21,
   "id": "c210c06e",
   "metadata": {},
   "outputs": [
    {
     "name": "stdout",
     "output_type": "stream",
     "text": [
      "Unique Cuisines served in Delhi NCR Region, but not in Rest of India:-\n",
      "{'Bihari', 'Cuisine Varies', 'Deli', 'Sri Lankan', 'Oriya', 'Turkish', 'Naga', 'Persian', 'Assamese', 'Drinks Only', 'Moroccan', 'South American', 'Pakistani', 'Belgian', 'Nepalese', 'Kashmiri', 'Iranian', 'Sushi', 'Afghani', 'Raw Meats'}\n",
      "\n",
      "-----------------------------------------------------------------------\n",
      "\n",
      "Unique Cuisines served in Rest of India Region, but not in Delhi-NCR:-\n",
      "{'German', 'BBQ', 'Malwani', 'Cajun'}\n"
     ]
    }
   ],
   "source": [
    "print('Unique Cuisines served in Delhi NCR Region, but not in Rest of India:-')\n",
    "print(ncr_cuisines.difference(rest_cuisines))\n",
    "print()\n",
    "\n",
    "print('-----------------------------------------------------------------------')\n",
    "print()\n",
    "\n",
    "print('Unique Cuisines served in Rest of India Region, but not in Delhi-NCR:-')\n",
    "print(rest_cuisines.difference(ncr_cuisines))"
   ]
  },
  {
   "cell_type": "markdown",
   "id": "1836fa9c",
   "metadata": {},
   "source": [
    "## c.) Comparison of common cuisines in top 10 cusinies of both region using graphs"
   ]
  },
  {
   "cell_type": "markdown",
   "id": "d68a7362",
   "metadata": {},
   "source": [
    "###### Note I have hard-coded below data by seeing data from above, (it may change if data got updated from zomato api)"
   ]
  },
  {
   "cell_type": "code",
   "execution_count": 22,
   "id": "fdcaadc8",
   "metadata": {},
   "outputs": [],
   "source": [
    "common_cuisines = np.array(['North Indian', 'Chinese', 'Continental', 'Italian', 'Fast Food', 'South Indian', 'Mughlai', 'Desserts'])\n",
    "common_cuisines_ncr_count = np.array([3597, 2448, 547, 535, 1866, 569, 933, 542])\n",
    "common_cuisines_rest_count = np.array([349, 242, 177, 147, 97, 62, 59, 55])"
   ]
  },
  {
   "cell_type": "code",
   "execution_count": 23,
   "id": "6b350125",
   "metadata": {},
   "outputs": [
    {
     "name": "stdout",
     "output_type": "stream",
     "text": [
      "Common Cuisines among top 10 cuisines of each region are: \n",
      "North Indian,\tChinese,\tContinental,\tItalian,\tFast Food,\tSouth Indian,\tMughlai,\tDesserts\n"
     ]
    }
   ],
   "source": [
    "print('Common Cuisines among top 10 cuisines of each region are: ')\n",
    "print(*common_cuisines, sep=',\\t')"
   ]
  },
  {
   "cell_type": "code",
   "execution_count": 24,
   "id": "e48fe1b8",
   "metadata": {},
   "outputs": [
    {
     "data": {
      "image/png": "[encoded data removed]",
      "text/plain": [
       "<Figure size 432x288 with 1 Axes>"
      ]
     },
     "metadata": {
      "needs_background": "light"
     },
     "output_type": "display_data"
    }
   ],
   "source": [
    "# plotting bar graph\n",
    "xt = np.arange(len(common_cuisines))\n",
    "  \n",
    "plt.bar(xt - 0.2, common_cuisines_ncr_count, 0.4, label = 'Delhi-NCR')\n",
    "plt.bar(xt + 0.2, common_cuisines_rest_count, 0.4, label = 'Rest of India')\n",
    "  \n",
    "plt.xticks(xt, common_cuisines,rotation=90)\n",
    "plt.xlabel(\"Cuisines\")\n",
    "plt.ylabel(\"Number of Outlets\")\n",
    "plt.title(\"Bar Graph Comparison of Delhi-NCR vs Rest of India\")\n",
    "plt.legend()\n",
    "plt.show()"
   ]
  },
  {
   "cell_type": "code",
   "execution_count": 25,
   "id": "39606461",
   "metadata": {},
   "outputs": [
    {
     "name": "stdout",
     "output_type": "stream",
     "text": [
      "Above bar graph shows the number of outlets for each Cuisine.\n",
      "But this data is highly skewed toward the cities included in Delhi-NCR.\n",
      "So I plot two pie chart based of weightage percentage of each Cuisine based on regions.\n",
      "\n",
      "\n",
      "Outlet percentage = (Number of Outlets for particular Cuisine) / (Total Number of Outlets)\n"
     ]
    }
   ],
   "source": [
    "print('Above bar graph shows the number of outlets for each Cuisine.')\n",
    "print(\"But this data is highly skewed toward the cities included in Delhi-NCR.\")\n",
    "print('So I plot two pie chart based of weightage percentage of each Cuisine based on regions.')\n",
    "print()\n",
    "print()\n",
    "print('Outlet percentage = (Number of Outlets for particular Cuisine) / (Total Number of Outlets)')"
   ]
  },
  {
   "cell_type": "code",
   "execution_count": 26,
   "id": "841eceab",
   "metadata": {},
   "outputs": [
    {
     "data": {
      "image/png": "[encoded data removed]",
      "text/plain": [
       "<Figure size 432x288 with 1 Axes>"
      ]
     },
     "metadata": {},
     "output_type": "display_data"
    }
   ],
   "source": [
    "plt.pie(common_cuisines_ncr_count/len(ncr_cuisines_count_map.keys()), labels = common_cuisines, autopct = '%.2f%%')\n",
    "plt.axis('equal')\n",
    "plt.title('Pie-chart of weightage percentage of Cuisine Delhi-NCR region')\n",
    "\n",
    "plt.show()"
   ]
  },
  {
   "cell_type": "code",
   "execution_count": 27,
   "id": "31708e7c",
   "metadata": {},
   "outputs": [
    {
     "data": {
      "image/png": "[encoded data removed]",
      "text/plain": [
       "<Figure size 432x288 with 1 Axes>"
      ]
     },
     "metadata": {},
     "output_type": "display_data"
    }
   ],
   "source": [
    "plt.pie(common_cuisines_rest_count/len(rest_cuisines_count_map.keys()), labels = common_cuisines, autopct = '%.2f%%')\n",
    "plt.axis('equal')\n",
    "plt.title('Pie-chart of weightage percentage of Cuisine Rest of India Region')\n",
    "\n",
    "plt.show()"
   ]
  },
  {
   "cell_type": "code",
   "execution_count": 28,
   "id": "7e01b96a",
   "metadata": {},
   "outputs": [
    {
     "name": "stdout",
     "output_type": "stream",
     "text": [
      "By seeing above two pie chart we can conclude that:-\n",
      "1.) \"North Indian, Chinese, South Indian and Desserts\" are almost served in same proportion in both regions.\n",
      "2.) \"Continental and Italian\" are served comparatively higher in Rest of India Region.\n",
      "3.) \"Fast Food and Mughlai\" are served comparatively higher in Delhi-NCR Region.\n"
     ]
    }
   ],
   "source": [
    "print('By seeing above two pie chart we can conclude that:-')\n",
    "print('1.) \"North Indian, Chinese, South Indian and Desserts\" are almost served in same proportion in both regions.')\n",
    "print('2.) \"Continental and Italian\" are served comparatively higher in Rest of India Region.')\n",
    "print('3.) \"Fast Food and Mughlai\" are served comparatively higher in Delhi-NCR Region.')"
   ]
  },
  {
   "cell_type": "markdown",
   "id": "765c34bc",
   "metadata": {},
   "source": [
    "# |||||||||||||||||||||||||||||||||||||||||||||||||||||||||||||||||||||||||||||||||||||||||||||||||||||||||||||||||||||||||||||||"
   ]
  }
 ],
 "metadata": {
  "kernelspec": {
   "display_name": "Python 3",
   "language": "python",
   "name": "python3"
  },
  "language_info": {
   "codemirror_mode": {
    "name": "ipython",
    "version": 3
   },
   "file_extension": ".py",
   "mimetype": "text/x-python",
   "name": "python",
   "nbconvert_exporter": "python",
   "pygments_lexer": "ipython3",
   "version": "3.8.8"
  }
 },
 "nbformat": 4,
 "nbformat_minor": 5
}
