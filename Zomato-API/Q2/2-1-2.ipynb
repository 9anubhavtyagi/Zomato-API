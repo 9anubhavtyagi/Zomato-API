{
 "cells": [
  {
   "cell_type": "markdown",
   "id": "a5c4c4f6",
   "metadata": {},
   "source": [
    "# Write a short detail analysis of how the rating is affected by restaurant due following features: Plot a suitable graph to explain your inference."
   ]
  },
  {
   "cell_type": "markdown",
   "id": "a3be9092",
   "metadata": {},
   "source": [
    "## 2.) Restaurant serving more number of cuisines."
   ]
  },
  {
   "cell_type": "markdown",
   "id": "94ab9bbd",
   "metadata": {},
   "source": [
    "## Plot bubble chart between Number of Cuisines Restaurant Serves vs Restaurant's Average weightage rating, using number of restaurants as bubble weights."
   ]
  },
  {
   "cell_type": "code",
   "execution_count": null,
   "id": "d921c3d0",
   "metadata": {},
   "outputs": [],
   "source": []
  },
  {
   "cell_type": "markdown",
   "id": "a26208b6",
   "metadata": {},
   "source": [
    "### Module Imports"
   ]
  },
  {
   "cell_type": "code",
   "execution_count": 1,
   "id": "1b6c6819",
   "metadata": {},
   "outputs": [],
   "source": [
    "# importing libraries\n",
    "import pandas as pd\n",
    "import numpy as np\n",
    "import matplotlib.pyplot as plt"
   ]
  },
  {
   "cell_type": "markdown",
   "id": "aff9e25c",
   "metadata": {},
   "source": [
    "### function to count cuisines in a cuisine string"
   ]
  },
  {
   "cell_type": "code",
   "execution_count": 2,
   "id": "4593b742",
   "metadata": {},
   "outputs": [],
   "source": [
    "def count_cuisines(cuisine_string):\n",
    "    return cuisine_string.count(',') +1"
   ]
  },
  {
   "cell_type": "markdown",
   "id": "f48578c6",
   "metadata": {},
   "source": [
    "### Load indian restaurants data"
   ]
  },
  {
   "cell_type": "code",
   "execution_count": 3,
   "id": "6b447ed6",
   "metadata": {},
   "outputs": [],
   "source": [
    "# load data\n",
    "df = pd.read_csv('zomato.csv')\n",
    "\n",
    "# extract indian restaurant's data\n",
    "df = df[df['Country Code'] == 1]\n",
    "\n",
    "# df"
   ]
  },
  {
   "cell_type": "markdown",
   "id": "38e2325f",
   "metadata": {},
   "source": [
    "### drop rows containing nan values in 'Cuisines', 'Aggregate rating', 'Votes' columns"
   ]
  },
  {
   "cell_type": "code",
   "execution_count": 4,
   "id": "b3593998",
   "metadata": {},
   "outputs": [],
   "source": [
    "# drop nan values for Cuisines and Votes\n",
    "df.dropna(subset=['Cuisines', 'Aggregate rating', 'Votes'], inplace=True)\n",
    "\n",
    "# make a column num_cuisines storing number of cuisines serve by restaurants\n",
    "df['num_cuisines'] = df.Cuisines.apply(count_cuisines)\n",
    "df['vote_rating_product'] = df['Aggregate rating'] * df['Votes']\n",
    "\n",
    "# df"
   ]
  },
  {
   "cell_type": "markdown",
   "id": "8f375a5c",
   "metadata": {},
   "source": [
    "### Calculate sum of 'product of votes and rating', 'Votes', and count of 'num_cuisines' grouping by 'num_cuisines' wise"
   ]
  },
  {
   "cell_type": "code",
   "execution_count": 5,
   "id": "a75c35df",
   "metadata": {},
   "outputs": [],
   "source": [
    "vrp_sum_data = df.groupby('num_cuisines')['vote_rating_product'].sum()\n",
    "votes_sum_data = df.groupby('num_cuisines')['Votes'].sum()\n",
    "num_cuisines_count_data = df.groupby('num_cuisines')['num_cuisines'].count()\n",
    "\n",
    "weighted_rating_data = vrp_sum_data/votes_sum_data"
   ]
  },
  {
   "cell_type": "markdown",
   "id": "6d527c9f",
   "metadata": {},
   "source": [
    "### Extract number of cuisines served, weighted ratings, and number of outlets"
   ]
  },
  {
   "cell_type": "code",
   "execution_count": 6,
   "id": "c7b92183",
   "metadata": {},
   "outputs": [],
   "source": [
    "num_cusinies_served = weighted_rating_data.index\n",
    "weighted_ratings = weighted_rating_data.values\n",
    "num_outlets = num_cuisines_count_data.values"
   ]
  },
  {
   "cell_type": "code",
   "execution_count": 7,
   "id": "d5bc971a",
   "metadata": {},
   "outputs": [
    {
     "data": {
      "text/plain": [
       "8"
      ]
     },
     "execution_count": 7,
     "metadata": {},
     "output_type": "execute_result"
    }
   ],
   "source": [
    "weighted_ratings.size"
   ]
  },
  {
   "cell_type": "markdown",
   "id": "c1c8faff",
   "metadata": {},
   "source": [
    "## Plot the bubble chart"
   ]
  },
  {
   "cell_type": "code",
   "execution_count": 8,
   "id": "fe31819b",
   "metadata": {},
   "outputs": [
    {
     "data": {
      "image/png": "[encoded data removed]",
      "text/plain": [
       "<Figure size 432x288 with 1 Axes>"
      ]
     },
     "metadata": {
      "needs_background": "light"
     },
     "output_type": "display_data"
    }
   ],
   "source": [
    "# bubble chart\n",
    "plt.scatter(num_cusinies_served, weighted_ratings, s = num_outlets/8, edgecolor='black')\n",
    "plt.plot(num_cusinies_served, weighted_ratings)\n",
    "\n",
    "\n",
    "plt.title('Bubble chart of Salary vs Year')\n",
    "\n",
    "plt.xlabel('Number of Cuisines served by restaurants')\n",
    "plt.ylabel('Weighted Rating')\n",
    "\n",
    "\n",
    "plt.show()"
   ]
  },
  {
   "cell_type": "markdown",
   "id": "e703b20f",
   "metadata": {},
   "source": [
    "# Result\n",
    "- By seeing above chart first thing we can conclude that, there are very less number of outlets serving 5 or more different cuisines.\n",
    "- Generally restaurant serving 3 or 4 differnt cuisines are more in number and have good rating."
   ]
  },
  {
   "cell_type": "code",
   "execution_count": null,
   "id": "0021505d",
   "metadata": {},
   "outputs": [],
   "source": []
  }
 ],
 "metadata": {
  "kernelspec": {
   "display_name": "Python 3",
   "language": "python",
   "name": "python3"
  },
  "language_info": {
   "codemirror_mode": {
    "name": "ipython",
    "version": 3
   },
   "file_extension": ".py",
   "mimetype": "text/x-python",
   "name": "python",
   "nbconvert_exporter": "python",
   "pygments_lexer": "ipython3",
   "version": "3.8.8"
  }
 },
 "nbformat": 4,
 "nbformat_minor": 5
}
