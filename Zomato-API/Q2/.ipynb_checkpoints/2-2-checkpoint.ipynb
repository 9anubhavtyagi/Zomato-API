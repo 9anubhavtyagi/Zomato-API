{
 "cells": [
  {
   "cell_type": "markdown",
   "id": "49bda3fc",
   "metadata": {},
   "source": [
    "# Find the weighted restaurant rating of each locality and find out the top 10 localities with more weighted restaurant rating?"
   ]
  },
  {
   "cell_type": "markdown",
   "id": "1957d517",
   "metadata": {},
   "source": [
    "### Module Imports"
   ]
  },
  {
   "cell_type": "code",
   "execution_count": 1,
   "id": "53bd94a9",
   "metadata": {},
   "outputs": [],
   "source": [
    "# importing libraries\n",
    "import pandas as pd\n",
    "import numpy as np\n",
    "import matplotlib.pyplot as plt"
   ]
  },
  {
   "cell_type": "markdown",
   "id": "d2ace936",
   "metadata": {},
   "source": [
    "### Load indian restaurants data"
   ]
  },
  {
   "cell_type": "code",
   "execution_count": 2,
   "id": "336b30cc",
   "metadata": {},
   "outputs": [],
   "source": [
    "# fetch data\n",
    "df = pd.read_csv('zomato.csv')\n",
    "\n",
    "# extract indian restaurant's data\n",
    "df = df[df['Country Code'] == 1]\n",
    "\n",
    "# df"
   ]
  },
  {
   "cell_type": "markdown",
   "id": "41af48a6",
   "metadata": {},
   "source": [
    "### drop rows containing nan values for columns aggregate rating and votes"
   ]
  },
  {
   "cell_type": "code",
   "execution_count": 3,
   "id": "b343827a",
   "metadata": {},
   "outputs": [],
   "source": [
    "# drop nan values for aggregate rating and votes\n",
    "df.dropna(subset=['Aggregate rating', 'Votes'], inplace=True)\n",
    "\n",
    "# df"
   ]
  },
  {
   "cell_type": "markdown",
   "id": "e4ad7acd",
   "metadata": {},
   "source": [
    "### Make a new column storing product of Votes and Average Rating"
   ]
  },
  {
   "cell_type": "code",
   "execution_count": 4,
   "id": "7645ab48",
   "metadata": {},
   "outputs": [],
   "source": [
    "# make a column containing product of aggregate rating and votes\n",
    "df['vote_rating_product'] = df['Aggregate rating'] * df['Votes']\n",
    "\n",
    "# df"
   ]
  },
  {
   "cell_type": "markdown",
   "id": "cff8b31f",
   "metadata": {},
   "source": [
    "### Votes Rating Product sum"
   ]
  },
  {
   "cell_type": "code",
   "execution_count": 5,
   "id": "004fd81b",
   "metadata": {},
   "outputs": [],
   "source": [
    "# locality-wise vote_rating_product sum\n",
    "locality_vrp_sum = df.groupby('Locality')['vote_rating_product'].sum()\n",
    "\n",
    "# locality_vrp_sum"
   ]
  },
  {
   "cell_type": "markdown",
   "id": "df2845bb",
   "metadata": {},
   "source": [
    "### Votes sum"
   ]
  },
  {
   "cell_type": "code",
   "execution_count": 6,
   "id": "1401240c",
   "metadata": {},
   "outputs": [],
   "source": [
    "# locality-wise vote sum\n",
    "locality_votes_sum = df.groupby('Locality')['Votes'].sum()\n",
    "\n",
    "# locality_votes_sum"
   ]
  },
  {
   "cell_type": "markdown",
   "id": "015e2d4a",
   "metadata": {},
   "source": [
    "### Calculate weighted rating"
   ]
  },
  {
   "cell_type": "code",
   "execution_count": 7,
   "id": "986c779d",
   "metadata": {},
   "outputs": [],
   "source": [
    "# locality-wise weighted rating\n",
    "locality_weighted_rating = locality_vrp_sum/locality_votes_sum\n",
    "\n",
    "# locality_weighted_rating"
   ]
  },
  {
   "cell_type": "markdown",
   "id": "7e17ca9b",
   "metadata": {},
   "source": [
    "### Top 10 locality-wise weighted rating"
   ]
  },
  {
   "cell_type": "code",
   "execution_count": 8,
   "id": "18906fe2",
   "metadata": {},
   "outputs": [],
   "source": [
    "# top 10 locality-wise weighted rating\n",
    "top_10_locality_weighted_rating = locality_weighted_rating.sort_values(ascending=False)[:10]\n",
    "\n",
    "# top_10_locality_weighted_rating"
   ]
  },
  {
   "cell_type": "markdown",
   "id": "a61068c9",
   "metadata": {},
   "source": [
    "## Print the result"
   ]
  },
  {
   "cell_type": "code",
   "execution_count": 9,
   "id": "572027f9",
   "metadata": {},
   "outputs": [
    {
     "name": "stdout",
     "output_type": "stream",
     "text": [
      "Hotel Clarks Amer 4.9\n",
      "Aminabad 4.9\n",
      "Friends Colony 4.89\n",
      "Powai 4.84\n",
      "Kirlampudi Layout 4.82\n",
      "Deccan Gymkhana 4.8\n",
      "Express Avenue Mall 4.8\n",
      "Banjara Hills 4.72\n",
      "Sector 5 4.71\n",
      "Riverside Mall 4.7\n"
     ]
    }
   ],
   "source": [
    "for locality in top_10_locality_weighted_rating.index:\n",
    "    rating = round(top_10_locality_weighted_rating[locality], 2)\n",
    "    locality = locality.split(',')[0].strip()\n",
    "    \n",
    "    print(locality, rating)"
   ]
  },
  {
   "cell_type": "code",
   "execution_count": null,
   "id": "ee20f77e",
   "metadata": {},
   "outputs": [],
   "source": []
  }
 ],
 "metadata": {
  "kernelspec": {
   "display_name": "Python 3",
   "language": "python",
   "name": "python3"
  },
  "language_info": {
   "codemirror_mode": {
    "name": "ipython",
    "version": 3
   },
   "file_extension": ".py",
   "mimetype": "text/x-python",
   "name": "python",
   "nbconvert_exporter": "python",
   "pygments_lexer": "ipython3",
   "version": "3.8.8"
  }
 },
 "nbformat": 4,
 "nbformat_minor": 5
}
