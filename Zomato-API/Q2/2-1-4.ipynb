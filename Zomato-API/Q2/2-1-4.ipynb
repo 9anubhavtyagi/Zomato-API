{
 "cells": [
  {
   "cell_type": "markdown",
   "id": "5d28df0b",
   "metadata": {},
   "source": [
    "# Write a short detail analysis of how the rating is affected by restaurant due following features: Plot a suitable graph to explain your inference."
   ]
  },
  {
   "cell_type": "markdown",
   "id": "b12b5c3e",
   "metadata": {},
   "source": [
    "# 4.) Restaurant serving some specific cuisines."
   ]
  },
  {
   "cell_type": "markdown",
   "id": "80464bde",
   "metadata": {},
   "source": [
    "## Find individual average rating for each cuisine, then plot the bar graph and visualize the result."
   ]
  },
  {
   "cell_type": "code",
   "execution_count": null,
   "id": "69699223",
   "metadata": {},
   "outputs": [],
   "source": []
  },
  {
   "cell_type": "markdown",
   "id": "68f77f5b",
   "metadata": {},
   "source": [
    "### Module Imports"
   ]
  },
  {
   "cell_type": "code",
   "execution_count": 1,
   "id": "ecbbd6f1",
   "metadata": {},
   "outputs": [],
   "source": [
    "# importing libraries\n",
    "import pandas as pd\n",
    "import numpy as np\n",
    "import matplotlib.pyplot as plt"
   ]
  },
  {
   "cell_type": "markdown",
   "id": "1e81edd8",
   "metadata": {},
   "source": [
    "### Load Indain restaurants data"
   ]
  },
  {
   "cell_type": "code",
   "execution_count": 2,
   "id": "ed563049",
   "metadata": {},
   "outputs": [],
   "source": [
    "# load data\n",
    "df = pd.read_csv('zomato.csv')\n",
    "\n",
    "# extract indian restaurant's data\n",
    "df = df[df['Country Code'] == 1]\n",
    "\n",
    "# drop nan values for Aggregate rating and Cuisines column\n",
    "df.dropna(subset = ['Aggregate rating', 'Cuisines'], inplace = True)\n",
    "# df"
   ]
  },
  {
   "cell_type": "markdown",
   "id": "4b855255",
   "metadata": {},
   "source": [
    "### extracting ratings and cuisines for doing calculations"
   ]
  },
  {
   "cell_type": "code",
   "execution_count": 3,
   "id": "e6485e29",
   "metadata": {},
   "outputs": [],
   "source": [
    "# extracting ratings and cuisines for doing calculations\n",
    "ratings_list = list(df['Aggregate rating'])\n",
    "cuisines_list = list(df['Cuisines'])"
   ]
  },
  {
   "cell_type": "markdown",
   "id": "0d529b78",
   "metadata": {},
   "source": [
    "### Create a dictionary that contains cuisines and list of their ratings"
   ]
  },
  {
   "cell_type": "code",
   "execution_count": 4,
   "id": "76b75671",
   "metadata": {},
   "outputs": [],
   "source": [
    "# map containing cuisines and list of their ratings\n",
    "cuisines_rating_map ={}\n",
    "\n",
    "for i in range(len(cuisines_list)):\n",
    "    cuisines = cuisines_list[i].split(',')\n",
    "    for cuisine in cuisines:\n",
    "        cuisine = cuisine.strip()\n",
    "        if cuisine in cuisines_rating_map:\n",
    "            cuisines_rating_map[cuisine].append(ratings_list[i])\n",
    "        else:\n",
    "            cuisines_rating_map[cuisine] = [ratings_list[i]]\n",
    "    \n",
    "\n",
    "# replacing list of ratings by avergae rating in the 'cuisines_rating_map'\n",
    "for cuisine, cuisine_rating in cuisines_rating_map.items():\n",
    "    cuisines_rating_map[cuisine] = sum(cuisine_rating)/len(cuisine_rating)"
   ]
  },
  {
   "cell_type": "markdown",
   "id": "88e92819",
   "metadata": {},
   "source": [
    "### Convert above found data as Numpy Arrays"
   ]
  },
  {
   "cell_type": "code",
   "execution_count": 5,
   "id": "5f025141",
   "metadata": {},
   "outputs": [],
   "source": [
    "# cuisines as np array\n",
    "cuisines = np.array(list(cuisines_rating_map.keys()))\n",
    "\n",
    "# rating as np array\n",
    "ratings = np.array(list(cuisines_rating_map.values()))\n",
    "ratings = np.round(ratings, decimals=2)"
   ]
  },
  {
   "cell_type": "markdown",
   "id": "ec4efff7",
   "metadata": {},
   "source": [
    "# Top 10 Cuisines"
   ]
  },
  {
   "cell_type": "code",
   "execution_count": 6,
   "id": "6c74a15e",
   "metadata": {},
   "outputs": [],
   "source": [
    "# Top 10 Cuisines\n",
    "ind = ratings.argsort()[::-1]\n",
    "ind = ind[:10]\n",
    "\n",
    "top_10_cuisines = cuisines[ind]\n",
    "top_10_cuisines_ratings = ratings[ind]"
   ]
  },
  {
   "cell_type": "markdown",
   "id": "e58f96a5",
   "metadata": {},
   "source": [
    "### Print top 10 result"
   ]
  },
  {
   "cell_type": "code",
   "execution_count": 7,
   "id": "b712ec43",
   "metadata": {},
   "outputs": [
    {
     "name": "stdout",
     "output_type": "stream",
     "text": [
      "Top 10 rated Cuisines are:\n",
      "Persian - 4.6\n",
      "German - 4.35\n",
      "Modern Indian - 4.28\n",
      "Charcoal Grill - 4.18\n",
      "Parsi - 4.1\n",
      "Iranian - 4.07\n",
      "Burmese - 4.05\n",
      "Steak - 4.05\n",
      "Spanish - 4.03\n",
      "Sri Lankan - 4.0\n"
     ]
    }
   ],
   "source": [
    "# printing top 10 result\n",
    "print('Top 10 rated Cuisines are:')\n",
    "for i in range(10):\n",
    "    print(top_10_cuisines[i],'-',top_10_cuisines_ratings[i])\n"
   ]
  },
  {
   "cell_type": "markdown",
   "id": "d7590da0",
   "metadata": {},
   "source": [
    "## Plot the bar graph of Top 10 cuisines"
   ]
  },
  {
   "cell_type": "code",
   "execution_count": 8,
   "id": "077b13c3",
   "metadata": {},
   "outputs": [
    {
     "data": {
      "image/png": "[encoded data removed]",
      "text/plain": [
       "<Figure size 432x288 with 1 Axes>"
      ]
     },
     "metadata": {
      "needs_background": "light"
     },
     "output_type": "display_data"
    }
   ],
   "source": [
    "# plotting graph\n",
    "plt.bar(top_10_cuisines, top_10_cuisines_ratings)\n",
    "plt.ylabel('Average User Rating',fontsize=15)\n",
    "plt.xlabel('Cuisines',fontsize=15)\n",
    "plt.title('Top 10 rated Cuisines',fontsize=15)\n",
    "plt.yticks(fontsize=15)\n",
    "plt.xticks(fontsize=15, rotation=90)\n",
    "plt.show()"
   ]
  },
  {
   "cell_type": "markdown",
   "id": "56076501",
   "metadata": {},
   "source": [
    "# Lowest 10 cuisines"
   ]
  },
  {
   "cell_type": "code",
   "execution_count": 9,
   "id": "ad84b442",
   "metadata": {},
   "outputs": [],
   "source": [
    "# Lowest 10 Cuisines\n",
    "ind = ratings.argsort()\n",
    "ind = ind[:10]\n",
    "\n",
    "low_10_cuisines = cuisines[ind]\n",
    "low_10_cuisines_ratings = ratings[ind]"
   ]
  },
  {
   "cell_type": "markdown",
   "id": "8986e406",
   "metadata": {},
   "source": [
    "### Print lowest 10 result"
   ]
  },
  {
   "cell_type": "code",
   "execution_count": 10,
   "id": "b729e069",
   "metadata": {},
   "outputs": [
    {
     "name": "stdout",
     "output_type": "stream",
     "text": [
      "Lowest 10 rated Cuisines are:\n",
      "Cuisine Varies - 0.0\n",
      "Armenian - 1.3\n",
      "Afghani - 1.42\n",
      "Awadhi - 1.57\n",
      "Moroccan - 1.62\n",
      "Nepalese - 1.66\n",
      "Drinks Only - 1.75\n",
      "North Eastern - 1.8\n",
      "Pakistani - 1.9\n",
      "Mithai - 2.07\n"
     ]
    }
   ],
   "source": [
    "# printing result\n",
    "print('Lowest 10 rated Cuisines are:')\n",
    "for i in range(10):\n",
    "    print(low_10_cuisines[i],'-',low_10_cuisines_ratings[i])\n"
   ]
  },
  {
   "cell_type": "markdown",
   "id": "db74c90a",
   "metadata": {},
   "source": [
    "## Plot the bar graph"
   ]
  },
  {
   "cell_type": "code",
   "execution_count": 11,
   "id": "ec63f776",
   "metadata": {},
   "outputs": [
    {
     "data": {
      "image/png": "[encoded data removed]",
      "text/plain": [
       "<Figure size 432x288 with 1 Axes>"
      ]
     },
     "metadata": {
      "needs_background": "light"
     },
     "output_type": "display_data"
    }
   ],
   "source": [
    "# plotting graph\n",
    "plt.bar(low_10_cuisines, low_10_cuisines_ratings)\n",
    "plt.ylabel('Average User Rating',fontsize=15)\n",
    "plt.xlabel('Cuisines',fontsize=15)\n",
    "plt.title('Lowest 10 rated Cuisines',fontsize=15)\n",
    "plt.yticks(fontsize=15)\n",
    "plt.xticks(fontsize=15, rotation=90)\n",
    "plt.show()"
   ]
  },
  {
   "cell_type": "code",
   "execution_count": 12,
   "id": "24e65129",
   "metadata": {},
   "outputs": [
    {
     "data": {
      "text/plain": [
       "array(['Persian', 'German', 'Modern Indian', 'Charcoal Grill', 'Parsi',\n",
       "       'Iranian', 'Burmese', 'Steak', 'Spanish', 'Sri Lankan'],\n",
       "      dtype='<U14')"
      ]
     },
     "execution_count": 12,
     "metadata": {},
     "output_type": "execute_result"
    }
   ],
   "source": [
    "top_10_cuisines"
   ]
  },
  {
   "cell_type": "markdown",
   "id": "9efa155e",
   "metadata": {},
   "source": [
    "# Result\n",
    "- Lowest ten rated cuisines are: **'Cuisine Varies', 'Armenian', 'Afghani', 'Awadhi', 'Moroccan', 'Nepalese', 'Drinks Only', 'North Eastern', 'Pakistani', 'Mithai'**\n",
    "\n",
    "- Top ten rated cuisines are: **'Persian', 'German', 'Modern Indian', 'Charcoal Grill', 'Parsi', 'Iranian', 'Burmese', 'Steak', 'Spanish', 'Sri Lankan'**"
   ]
  },
  {
   "cell_type": "code",
   "execution_count": null,
   "id": "2749a327",
   "metadata": {},
   "outputs": [],
   "source": []
  }
 ],
 "metadata": {
  "kernelspec": {
   "display_name": "Python 3",
   "language": "python",
   "name": "python3"
  },
  "language_info": {
   "codemirror_mode": {
    "name": "ipython",
    "version": 3
   },
   "file_extension": ".py",
   "mimetype": "text/x-python",
   "name": "python",
   "nbconvert_exporter": "python",
   "pygments_lexer": "ipython3",
   "version": "3.8.8"
  }
 },
 "nbformat": 4,
 "nbformat_minor": 5
}
